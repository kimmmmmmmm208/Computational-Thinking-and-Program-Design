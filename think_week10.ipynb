{
  "nbformat": 4,
  "nbformat_minor": 0,
  "metadata": {
    "colab": {
      "name": "think_week10.ipynb",
      "provenance": [],
      "authorship_tag": "ABX9TyNc1mucoO1NrmsGljmIo6X+",
      "include_colab_link": true
    },
    "kernelspec": {
      "name": "python3",
      "display_name": "Python 3"
    }
  },
  "cells": [
    {
      "cell_type": "markdown",
      "metadata": {
        "id": "view-in-github",
        "colab_type": "text"
      },
      "source": [
        "<a href=\"https://colab.research.google.com/github/kimmmmmmmm208/Computational-Thinking-and-Program-Design/blob/master/think_week10.ipynb\" target=\"_parent\"><img src=\"https://colab.research.google.com/assets/colab-badge.svg\" alt=\"Open In Colab\"/></a>"
      ]
    },
    {
      "cell_type": "markdown",
      "metadata": {
        "id": "5hGcOaBNsSIR",
        "colab_type": "text"
      },
      "source": [
        "假設上衣300元、褲子350元與背心400元，使用者可以自行輸入三種服裝的數量，請設計一個程式計算訂購服裝的總金額。\n"
      ]
    },
    {
      "cell_type": "code",
      "metadata": {
        "id": "J7Ed8KetsVta",
        "colab_type": "code",
        "colab": {
          "base_uri": "https://localhost:8080/",
          "height": 90
        },
        "outputId": "116f1928-85d9-4194-fb6f-0b9815ff4cd4"
      },
      "source": [
        "A = int(input(\"請輸入上衣數量?\"))\n",
        "B = int(input(\"請輸入褲子數量?\"))\n",
        "C = int(input(\"請輸入背心數量?\"))\n",
        "a = 300 * A\n",
        "b = 350 * B\n",
        "c = 400 * C\n",
        "總金額 = a + b + c\n",
        "print(\"總金額為\", 總金額)"
      ],
      "execution_count": 1,
      "outputs": [
        {
          "output_type": "stream",
          "text": [
            "請輸入上衣數量?1\n",
            "請輸入褲子數量?1\n",
            "請輸入背心數量?1\n",
            "總金額為 1050\n"
          ],
          "name": "stdout"
        }
      ]
    },
    {
      "cell_type": "markdown",
      "metadata": {
        "id": "qeZWojGVshpK",
        "colab_type": "text"
      },
      "source": [
        "假設飲料一罐賣20元，一打賣200元，請設計一個程式計算買幾罐需花多少錢，若不足一打就個別買。"
      ]
    },
    {
      "cell_type": "code",
      "metadata": {
        "id": "nwxdKryzsiim",
        "colab_type": "code",
        "colab": {
          "base_uri": "https://localhost:8080/",
          "height": 54
        },
        "outputId": "6d0f0582-889d-4290-8592-311b6d7bd4de"
      },
      "source": [
        "a = int(input(\"你要買幾罐?\"))\n",
        "總金額 = (a//12 * 200) + (a%12 *20)\n",
        "print(\"總共\", 總金額, \"元\")"
      ],
      "execution_count": 2,
      "outputs": [
        {
          "output_type": "stream",
          "text": [
            "你要買幾罐?13\n",
            "總共 220 元\n"
          ],
          "name": "stdout"
        }
      ]
    },
    {
      "cell_type": "markdown",
      "metadata": {
        "id": "NPbzATSWsZO6",
        "colab_type": "text"
      },
      "source": [
        "輸入第一次期中考、第二次期中考與期末考成績，成績皆為整數，請計算分數的加總與平均。"
      ]
    },
    {
      "cell_type": "code",
      "metadata": {
        "id": "lG8LoCB6sbH2",
        "colab_type": "code",
        "colab": {
          "base_uri": "https://localhost:8080/",
          "height": 90
        },
        "outputId": "0e18fdd9-4dd4-4f1c-ec48-6202f71da7ce"
      },
      "source": [
        "A = int(input(\"第一次期中考\"))\n",
        "B = int(input(\"第二次期中考\"))\n",
        "總分 = A + B\n",
        "平均 = (A + B)//2\n",
        "print(\"總分為\", 總分)\n",
        "print(\"平均為\", 平均)"
      ],
      "execution_count": 4,
      "outputs": [
        {
          "output_type": "stream",
          "text": [
            "第一次期中考100\n",
            "第二次期中考100\n",
            "總分為 200\n",
            "平均為 100\n"
          ],
          "name": "stdout"
        }
      ]
    }
  ]
}