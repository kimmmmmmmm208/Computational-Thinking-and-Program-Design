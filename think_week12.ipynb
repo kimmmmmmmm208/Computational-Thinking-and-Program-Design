{
  "nbformat": 4,
  "nbformat_minor": 0,
  "metadata": {
    "colab": {
      "name": "think_week12",
      "provenance": [],
      "authorship_tag": "ABX9TyNnPdjWGHX00Lda8NNX7gXr",
      "include_colab_link": true
    },
    "kernelspec": {
      "name": "python3",
      "display_name": "Python 3"
    }
  },
  "cells": [
    {
      "cell_type": "markdown",
      "metadata": {
        "id": "view-in-github",
        "colab_type": "text"
      },
      "source": [
        "<a href=\"https://colab.research.google.com/github/kimmmmmmmm208/Computational-Thinking-and-Program-Design/blob/master/think_week12.ipynb\" target=\"_parent\"><img src=\"https://colab.research.google.com/assets/colab-badge.svg\" alt=\"Open In Colab\"/></a>"
      ]
    },
    {
      "cell_type": "code",
      "metadata": {
        "id": "PUzds1j0y_VF",
        "colab_type": "code",
        "colab": {
          "base_uri": "https://localhost:8080/",
          "height": 72
        },
        "outputId": "98f37bcd-7022-4fa1-f0dc-f1553d6ee4d6"
      },
      "source": [
        "# 數字資料(一)\n",
        "num = int(input(\"請輸入一個數字：\"))\n",
        "if num > 0:\n",
        "    print(\"數字為正數\")\n",
        "print(\"比較完畢\")"
      ],
      "execution_count": 7,
      "outputs": [
        {
          "output_type": "stream",
          "text": [
            "請輸入一個數字：6\n",
            "數字為正數\n",
            "比較完畢\n"
          ],
          "name": "stdout"
        }
      ]
    },
    {
      "cell_type": "code",
      "metadata": {
        "id": "chWV74mrz2zt",
        "colab_type": "code",
        "colab": {
          "base_uri": "https://localhost:8080/",
          "height": 72
        },
        "outputId": "c1b0606c-39f1-404d-b4d4-08f398061bc8"
      },
      "source": [
        "# 數字資料(二)\n",
        "num = int(input(\"請輸入一個數字:\"))\n",
        "if num <10:\n",
        "    print(\"比10小的數字\")\n",
        "print(\"完成\")"
      ],
      "execution_count": 11,
      "outputs": [
        {
          "output_type": "stream",
          "text": [
            "請輸入一個數字:6\n",
            "比10小的數字\n",
            "完成\n"
          ],
          "name": "stdout"
        }
      ]
    },
    {
      "cell_type": "code",
      "metadata": {
        "id": "0slLACSBz3Sd",
        "colab_type": "code",
        "colab": {
          "base_uri": "https://localhost:8080/",
          "height": 72
        },
        "outputId": "2bbb7c2a-224b-45a6-ec4d-a7a797f17869"
      },
      "source": [
        "num = input(\"Enter a number:\")\n",
        "num = int(num)\n",
        "\n",
        "if num > 0:\n",
        "    print(\"Positive number\")\n",
        "if num < 0:\n",
        "    print(\"Negative number\")\n",
        "if num == 0:\n",
        "   print(\"Number is 0\")\n",
        "print(\"比較完畢\")"
      ],
      "execution_count": 10,
      "outputs": [
        {
          "output_type": "stream",
          "text": [
            "Enter a number:1\n",
            "Positive number\n",
            "比較完畢\n"
          ],
          "name": "stdout"
        }
      ]
    },
    {
      "cell_type": "code",
      "metadata": {
        "id": "R0aC_bdV1CBE",
        "colab_type": "code",
        "colab": {}
      },
      "source": [
        "# 巢狀條件式\n",
        "num_a = int(input(\"輸入第一個數字?:\"))\n",
        "num_b = int(input(\"輸入第二個數字?:\"))\n",
        "\n",
        "if num_a < 0:\n",
        "    print(\"第一個是負數\")\n",
        "    if num_b < 0:\n",
        "        print(\"第二個也是負數\")\n",
        "print(\"比較完成\")"
      ],
      "execution_count": 0,
      "outputs": []
    },
    {
      "cell_type": "code",
      "metadata": {
        "id": "igjGIxz-2qcE",
        "colab_type": "code",
        "colab": {
          "base_uri": "https://localhost:8080/",
          "height": 108
        },
        "outputId": "25e7bceb-d1dc-4cd5-dec1-37c435c05018"
      },
      "source": [
        "# 非巢狀結構\n",
        "num_a = int(input(\"輸入第一個數字?:\"))\n",
        "num_b = int(input(\"輸入第二個數字?:\"))\n",
        "\n",
        "if  num_a < 0:\n",
        "    print(\"第一個是負數\")\n",
        "if num_b < 0:\n",
        "    print(\"第二個也是負數\")\n",
        "print(\"比較完成\")"
      ],
      "execution_count": 24,
      "outputs": [
        {
          "output_type": "stream",
          "text": [
            "輸入第一個數字?:-1\n",
            "輸入第二個數字?:-5\n",
            "第一個是負數\n",
            "第二個也是負數\n",
            "比較完成\n"
          ],
          "name": "stdout"
        }
      ]
    },
    {
      "cell_type": "code",
      "metadata": {
        "id": "qIKFTj2E21gz",
        "colab_type": "code",
        "colab": {
          "base_uri": "https://localhost:8080/",
          "height": 108
        },
        "outputId": "2ed4b1eb-a547-469d-81aa-cb88c359f4ac"
      },
      "source": [
        "num_1 = int(input(\"Enter a number:\"))\n",
        "num_2 = int(input(\"Enter a number:\"))\n",
        "\n",
        "if num_1 == 6:\n",
        "    print(\"Great, what a number!\")\n",
        "    if num_2 == 14:\n",
        "        print(\"Wonderful, I win.\")\n",
        "\n",
        "\n",
        "print(\"End\")"
      ],
      "execution_count": 13,
      "outputs": [
        {
          "output_type": "stream",
          "text": [
            "Enter a number:6\n",
            "Enter a number:14\n",
            "Great, what a number!\n",
            "Wonderful, I win.\n",
            "End\n"
          ],
          "name": "stdout"
        }
      ]
    },
    {
      "cell_type": "markdown",
      "metadata": {
        "id": "x4JhpzXB6mRb",
        "colab_type": "text"
      },
      "source": [
        "作業"
      ]
    },
    {
      "cell_type": "code",
      "metadata": {
        "id": "2LXp8PV15ZsE",
        "colab_type": "code",
        "colab": {
          "base_uri": "https://localhost:8080/",
          "height": 90
        },
        "outputId": "9f424ea2-e481-4171-b158-94247274ca38"
      },
      "source": [
        "# (一)\n",
        "noodle = input(\"有麵嗎? (YES/NO)\")\n",
        "sauce = input(\"有醬料嗎? (YES/NO)\")\n",
        "\n",
        "if noodle == \"YES\" and sauce == \"YES\":\n",
        "    print(\"可做義大利麵\")\n",
        "\n",
        "print(\"Well done!\")"
      ],
      "execution_count": 21,
      "outputs": [
        {
          "output_type": "stream",
          "text": [
            "有麵嗎? (YES/NO)YES\n",
            "有醬料嗎? (YES/NO)YES\n",
            "可做義大利麵\n",
            "Well done!\n"
          ],
          "name": "stdout"
        }
      ]
    },
    {
      "cell_type": "code",
      "metadata": {
        "id": "kOrcs6Ppx-W2",
        "colab_type": "code",
        "colab": {
          "base_uri": "https://localhost:8080/",
          "height": 90
        },
        "outputId": "dcdfabd7-933c-456d-bb6c-623a9a83a479"
      },
      "source": [
        "# (二)\n",
        "noodle = input(\"有麵嗎? (YES/NO)\")\n",
        "sauce = input(\"有醬料嗎? (YES/NO)\")\n",
        "if noodle == \"YES\":\n",
        "    if sauce == \"YES\":\n",
        "        print(\"可做義大利麵!\")\n",
        "    \n",
        "print(\"Well done!\")"
      ],
      "execution_count": 20,
      "outputs": [
        {
          "output_type": "stream",
          "text": [
            "有麵嗎? (YES/NO)YES\n",
            "有醬料嗎? (YES/NO)YES\n",
            "可做義大利麵!\n",
            "Well done!\n"
          ],
          "name": "stdout"
        }
      ]
    }
  ]
}