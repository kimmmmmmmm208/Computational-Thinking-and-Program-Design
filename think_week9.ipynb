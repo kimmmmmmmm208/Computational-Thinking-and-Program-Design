{
  "nbformat": 4,
  "nbformat_minor": 0,
  "metadata": {
    "colab": {
      "name": "think_week9.ipynb",
      "provenance": [],
      "authorship_tag": "ABX9TyP6G8Xx0VGmOGNQnO3LvRSO",
      "include_colab_link": true
    },
    "kernelspec": {
      "name": "python3",
      "display_name": "Python 3"
    }
  },
  "cells": [
    {
      "cell_type": "markdown",
      "metadata": {
        "id": "view-in-github",
        "colab_type": "text"
      },
      "source": [
        "<a href=\"https://colab.research.google.com/github/kimmmmmmmm208/Computational-Thinking-and-Program-Design/blob/master/think_week9.ipynb\" target=\"_parent\"><img src=\"https://colab.research.google.com/assets/colab-badge.svg\" alt=\"Open In Colab\"/></a>"
      ]
    },
    {
      "cell_type": "code",
      "metadata": {
        "id": "sXDJHC61b1Re",
        "colab_type": "code",
        "colab": {
          "base_uri": "https://localhost:8080/",
          "height": 54
        },
        "outputId": "e0a78353-612a-4b42-94ff-011d6dbdccda"
      },
      "source": [
        "座號 = int(input(\"請輸入座號\")) #文字轉數字\n",
        "組別 = (座號-1)//5 + 1\n",
        "print(\"組別為\", 組別)"
      ],
      "execution_count": 1,
      "outputs": [
        {
          "output_type": "stream",
          "text": [
            "請輸入座號18\n",
            "組別為 4\n"
          ],
          "name": "stdout"
        }
      ]
    },
    {
      "cell_type": "code",
      "metadata": {
        "id": "YGx6pSy1vLcx",
        "colab_type": "code",
        "colab": {}
      },
      "source": [
        "請設計一個程式計算圓面積與圓周長，依輸入的半徑計算圓面積與圓周長。"
      ],
      "execution_count": 0,
      "outputs": []
    },
    {
      "cell_type": "code",
      "metadata": {
        "id": "7nMfvO4DnFpT",
        "colab_type": "code",
        "colab": {
          "base_uri": "https://localhost:8080/",
          "height": 72
        },
        "outputId": "068bfada-73b7-435d-e387-29404d6a75bd"
      },
      "source": [
        "半徑 = int(input(\"請輸入半徑? \"))\n",
        "面積 = (半徑 * 半徑) * 3.14\n",
        "print(\"面積為\", 面積)\n",
        "周長 = 半徑 * 2 * 3.14\n",
        "print(\"周長為\", 周長)"
      ],
      "execution_count": 8,
      "outputs": [
        {
          "output_type": "stream",
          "text": [
            "請輸入半徑? 1\n",
            "面積為 3.14\n",
            "周長為 6.28\n"
          ],
          "name": "stdout"
        }
      ]
    },
    {
      "cell_type": "code",
      "metadata": {
        "id": "1BoZtm1YvJ4r",
        "colab_type": "code",
        "colab": {}
      },
      "source": [
        "請設計一個程式將輸入的攝氏溫度轉成華氏溫度，轉換公式如下:華氏溫度= 攝氏溫度*9/5+32"
      ],
      "execution_count": 0,
      "outputs": []
    },
    {
      "cell_type": "code",
      "metadata": {
        "id": "JBfQHWBgoY7b",
        "colab_type": "code",
        "colab": {
          "base_uri": "https://localhost:8080/",
          "height": 54
        },
        "outputId": "339fe109-15d9-42f6-8e3d-943563f59a93"
      },
      "source": [
        "攝氏溫度 = int(input(\"請輸入攝氏溫度?\"))\n",
        "華氏溫度 = 攝氏溫度*9/5+32\n",
        "print(\"華氏溫度為\", 華氏溫度)"
      ],
      "execution_count": 10,
      "outputs": [
        {
          "output_type": "stream",
          "text": [
            "請輸入攝氏溫度?20\n",
            "華氏溫度為 68.0\n"
          ],
          "name": "stdout"
        }
      ]
    },
    {
      "cell_type": "code",
      "metadata": {
        "id": "nQ1ySTybpX2T",
        "colab_type": "code",
        "colab": {}
      },
      "source": [
        "假設上衣300元、褲子350元與背心400元，使用者可以自行輸入三種服裝的數量，請設計一個程式計算訂購服裝的總金額。"
      ],
      "execution_count": 0,
      "outputs": []
    },
    {
      "cell_type": "code",
      "metadata": {
        "id": "hFtUu-LIpcB2",
        "colab_type": "code",
        "colab": {
          "base_uri": "https://localhost:8080/",
          "height": 90
        },
        "outputId": "ecb38a4c-3f0d-4d5f-e2a5-73c52813decd"
      },
      "source": [
        "A = int(input(\"請輸入上衣數量?\"))\n",
        "B = int(input(\"請輸入褲子數量?\"))\n",
        "C = int(input(\"請輸入背心數量?\"))\n",
        "a = 300 * A\n",
        "b = 350 * B\n",
        "c = 400 * C\n",
        "總金額 = a + b + c\n",
        "print(\"總金額為\", 總金額)"
      ],
      "execution_count": 11,
      "outputs": [
        {
          "output_type": "stream",
          "text": [
            "請輸入上衣數量?1\n",
            "請輸入褲子數量?1\n",
            "請輸入背心數量?1\n",
            "總金額為 1050\n"
          ],
          "name": "stdout"
        }
      ]
    },
    {
      "cell_type": "code",
      "metadata": {
        "id": "lmyWujeLqhN7",
        "colab_type": "code",
        "colab": {}
      },
      "source": [
        "為了刺激銷售量，賣場通常買一打會比買一罐便宜，假設一罐賣20元，一打賣200元，請設計一個程式計算買幾罐需花多少錢，若不足一打就個別買。"
      ],
      "execution_count": 0,
      "outputs": []
    },
    {
      "cell_type": "code",
      "metadata": {
        "id": "eoD3yjwnqhxS",
        "colab_type": "code",
        "colab": {
          "base_uri": "https://localhost:8080/",
          "height": 54
        },
        "outputId": "a43a5a1d-91ef-446e-ce1a-2e36c48db4c5"
      },
      "source": [
        "a = int(input(\"你要買幾罐?\"))\n",
        "總金額 = (a//12 * 200) + (a%12 *20)\n",
        "print(\"總共\", 總金額, \"元\")"
      ],
      "execution_count": 16,
      "outputs": [
        {
          "output_type": "stream",
          "text": [
            "你要買幾罐?13\n",
            "總共 220 元\n"
          ],
          "name": "stdout"
        }
      ]
    },
    {
      "cell_type": "code",
      "metadata": {
        "id": "6YED2UrvuNKj",
        "colab_type": "code",
        "colab": {}
      },
      "source": [
        "請輸入第一次期中考、第二次期中考與期末考成績，成績皆為整數，請計算分數的加總與平均。"
      ],
      "execution_count": 0,
      "outputs": []
    },
    {
      "cell_type": "code",
      "metadata": {
        "id": "nc0kwya3uNoC",
        "colab_type": "code",
        "colab": {
          "base_uri": "https://localhost:8080/",
          "height": 90
        },
        "outputId": "3c201f5d-120a-47b4-bee1-1c480422f543"
      },
      "source": [
        "A = int(input(\"第一次期中考\"))\n",
        "B = int(input(\"第二次期中考\"))\n",
        "總分 = A + B\n",
        "平均 = (A + B)//2\n",
        "print(\"總分為\", 總分)\n",
        "print(\"平均為\", 平均)"
      ],
      "execution_count": 19,
      "outputs": [
        {
          "output_type": "stream",
          "text": [
            "第一次期中考20\n",
            "第二次期中考40\n",
            "總分為 60\n",
            "平均為 30\n"
          ],
          "name": "stdout"
        }
      ]
    }
  ]
}