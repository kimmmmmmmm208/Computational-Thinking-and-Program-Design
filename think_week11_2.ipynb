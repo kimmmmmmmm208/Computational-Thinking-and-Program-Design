{
  "nbformat": 4,
  "nbformat_minor": 0,
  "metadata": {
    "colab": {
      "name": "think_week11-2",
      "provenance": [],
      "authorship_tag": "ABX9TyNDjMryDmk+E7C4N73jJwDP",
      "include_colab_link": true
    },
    "kernelspec": {
      "name": "python3",
      "display_name": "Python 3"
    }
  },
  "cells": [
    {
      "cell_type": "markdown",
      "metadata": {
        "id": "view-in-github",
        "colab_type": "text"
      },
      "source": [
        "<a href=\"https://colab.research.google.com/github/kimmmmmmmm208/Computational-Thinking-and-Program-Design/blob/master/think_week11_2.ipynb\" target=\"_parent\"><img src=\"https://colab.research.google.com/assets/colab-badge.svg\" alt=\"Open In Colab\"/></a>"
      ]
    },
    {
      "cell_type": "markdown",
      "metadata": {
        "id": "OfHGlWR31mWg",
        "colab_type": "text"
      },
      "source": [
        "「哈囉，我是Zyxo64。我是一個聊天機器人。」\n",
        "我喜歡動物，也喜歡食物。\n",
        "你叫什麼名字？：＊＊Joe＊＊。\n",
        "你好＊Joe＊，很高興認識你。"
      ]
    },
    {
      "cell_type": "code",
      "metadata": {
        "id": "n0nav03wwDe_",
        "colab_type": "code",
        "colab": {
          "base_uri": "https://localhost:8080/",
          "height": 87
        },
        "outputId": "a26fe2c5-2c69-46a0-c378-2fe15fe61d2e"
      },
      "source": [
        "# 聊天機器人自我介紹\n",
        "print(\"哈囉，我是zyxo64，我是一個聊天機器人\")\n",
        "print(\"我喜歡動物，也喜歡聊食物\")\n",
        "\n",
        "# 取得使用者名字\n",
        "name = input(\"你叫甚麼名字？：\")\n",
        "# 打招呼\n",
        "print(\"你好\", name, \"很高興認識你\")"
      ],
      "execution_count": 2,
      "outputs": [
        {
          "output_type": "stream",
          "text": [
            "哈囉，我是zyxo64，我是一個聊天機器人\n",
            "我喜歡動物，也喜歡聊食物\n",
            "你叫甚麼名字？：ee\n",
            "你好 ee 很高興認識你\n"
          ],
          "name": "stdout"
        }
      ]
    }
  ]
}