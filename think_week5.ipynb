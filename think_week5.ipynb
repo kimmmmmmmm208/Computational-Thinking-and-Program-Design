{
  "nbformat": 4,
  "nbformat_minor": 0,
  "metadata": {
    "colab": {
      "name": "think-week5",
      "provenance": []
    },
    "kernelspec": {
      "name": "python3",
      "display_name": "Python 3"
    }
  },
  "cells": [
    {
      "cell_type": "code",
      "metadata": {
        "id": "KZij2etTZLlu",
        "colab_type": "code",
        "colab": {
          "base_uri": "https://localhost:8080/",
          "height": 69
        },
        "outputId": "a9a77632-aee9-48c8-bc3a-9b87e0ce91b5"
      },
      "source": [
        "print(\"我的名字是陳姵云\")\n",
        "print(\"我的年紀為19歲\")\n",
        "print(\"我的體重是50kg\")"
      ],
      "execution_count": 2,
      "outputs": [
        {
          "output_type": "stream",
          "text": [
            "我的名字是陳姵云\n",
            "我的年紀為19歲\n",
            "我的體重是50kg\n"
          ],
          "name": "stdout"
        }
      ]
    },
    {
      "cell_type": "code",
      "metadata": {
        "id": "yoobwhh2cQS3",
        "colab_type": "code",
        "colab": {
          "base_uri": "https://localhost:8080/",
          "height": 69
        },
        "outputId": "3ac1f3ab-4a07-47a9-e8a7-79fa95b7db50"
      },
      "source": [
        "a = \"我的名字是陳姵云\"\n",
        "print(a)\n",
        "b = \"我的年紀為19歲\"\n",
        "print(b)\n",
        "c = \"我的體重是50kg\"\n",
        "print(c)"
      ],
      "execution_count": 6,
      "outputs": [
        {
          "output_type": "stream",
          "text": [
            "我的名字是陳姵云\n",
            "我的年紀為19歲\n",
            "我的體重是50kg\n"
          ],
          "name": "stdout"
        }
      ]
    },
    {
      "cell_type": "code",
      "metadata": {
        "id": "GAOkerDCkLwW",
        "colab_type": "code",
        "colab": {
          "base_uri": "https://localhost:8080/",
          "height": 121
        },
        "outputId": "73a31dad-d565-4139-dbdd-132b9c911ed8"
      },
      "source": [
        "A = input(\"請輸入你的姓名 \")\n",
        "print(\"姓名為\", A)\n",
        "B = input(\"請輸入你的年紀 \")\n",
        "print(\"年紀為\", B)\n",
        "C = input(\"請輸入你的體重 \")\n",
        "print(\"體重為\", C)"
      ],
      "execution_count": 11,
      "outputs": [
        {
          "output_type": "stream",
          "text": [
            "請輸入你的姓名 陳姵云\n",
            "姓名為 陳姵云\n",
            "請輸入你的年紀 19\n",
            "年紀為 19\n",
            "請輸入你的體重 50\n",
            "體重為 50\n"
          ],
          "name": "stdout"
        }
      ]
    }
  ]
}