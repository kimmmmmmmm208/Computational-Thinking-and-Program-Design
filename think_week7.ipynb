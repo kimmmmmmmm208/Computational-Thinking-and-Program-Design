{
  "nbformat": 4,
  "nbformat_minor": 0,
  "metadata": {
    "colab": {
      "name": "think-week7.ipynb",
      "provenance": [],
      "authorship_tag": "ABX9TyNuOhA+EYIiHhvhv1of37Ws",
      "include_colab_link": true
    },
    "kernelspec": {
      "name": "python3",
      "display_name": "Python 3"
    }
  },
  "cells": [
    {
      "cell_type": "markdown",
      "metadata": {
        "id": "view-in-github",
        "colab_type": "text"
      },
      "source": [
        "<a href=\"https://colab.research.google.com/github/kimmmmmmmm208/Computational-Thinking-and-Program-Design/blob/master/think_week7.ipynb\" target=\"_parent\"><img src=\"https://colab.research.google.com/assets/colab-badge.svg\" alt=\"Open In Colab\"/></a>"
      ]
    },
    {
      "cell_type": "code",
      "metadata": {
        "id": "Vh-gvezvkGIN",
        "colab_type": "code",
        "outputId": "16131398-1177-4599-fa1a-8882818f59b4",
        "colab": {
          "base_uri": "https://localhost:8080/",
          "height": 199
        }
      },
      "source": [
        "drama_title = \"梨泰院Class\" #片名\n",
        "release_year = \"2020\"#放映年份\n",
        "drama_rating = 8.3#網路評價\n",
        "drama_time_min = 60#每集長度\n",
        "director = \"趙光真\"#導演\n",
        "stars_1 = \"朴敘俊\"#主要演員\n",
        "stars_2 = \"金多美\"\n",
        "stars_3 = \"權娜拉\"\n",
        "stars_4 = \"劉在明\"\n",
        "like = 8 #你喜不喜歡\n",
        "print(drama_title)#螢幕列印\n",
        "print(release_year)\n",
        "print(drama_rating)\n",
        "print(drama_time_min)\n",
        "print(director)\n",
        "print(stars_1)\n",
        "print(stars_2)\n",
        "print(stars_3)\n",
        "print(stars_4)\n",
        "print(like)"
      ],
      "execution_count": 0,
      "outputs": [
        {
          "output_type": "stream",
          "text": [
            "梨泰院Class\n",
            "2020\n",
            "8.3\n",
            "60\n",
            "趙光真\n",
            "朴敘俊\n",
            "金多美\n",
            "權娜拉\n",
            "劉在明\n",
            "8\n"
          ],
          "name": "stdout"
        }
      ]
    }
  ]
}