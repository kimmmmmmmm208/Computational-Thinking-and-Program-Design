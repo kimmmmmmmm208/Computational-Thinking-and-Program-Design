{
  "nbformat": 4,
  "nbformat_minor": 0,
  "metadata": {
    "colab": {
      "name": "think_week11",
      "provenance": [],
      "authorship_tag": "ABX9TyN7L4+XU7kvc9dNwCcdq5H1",
      "include_colab_link": true
    },
    "kernelspec": {
      "name": "python3",
      "display_name": "Python 3"
    }
  },
  "cells": [
    {
      "cell_type": "markdown",
      "metadata": {
        "id": "view-in-github",
        "colab_type": "text"
      },
      "source": [
        "<a href=\"https://colab.research.google.com/github/kimmmmmmmm208/Computational-Thinking-and-Program-Design/blob/master/think_week11.ipynb\" target=\"_parent\"><img src=\"https://colab.research.google.com/assets/colab-badge.svg\" alt=\"Open In Colab\"/></a>"
      ]
    },
    {
      "cell_type": "code",
      "metadata": {
        "id": "nsJUfNTFnV5R",
        "colab_type": "code",
        "colab": {}
      },
      "source": [
        ""
      ],
      "execution_count": 0,
      "outputs": []
    },
    {
      "cell_type": "markdown",
      "metadata": {
        "id": "IxAiu2sCwlJt",
        "colab_type": "text"
      },
      "source": [
        "為了解開爸爸的死亡之謎，我透過老先生介紹，前往許墨教授的實驗室\n",
        "叩叩叩~\n",
        "許墨：請進\n",
        "許墨：請問你是？\n",
        "我：我叫做＂劉湘君＂\n",
        "許墨：「啊！原來是湘君阿，是那位老先生介紹的吧，他是我爸：）」\n",
        "我：「原來是這樣」\n",
        "許墨：「咦，湘君今年幾歲啊？」\n",
        "我：「我今年\"22\"歲」\n",
        "許墨：「原來是妹妹呀，我今年25歲，你可以叫我許哥哥哦」\n",
        "我：「好的，許哥哥」\n",
        "許墨：「那你住哪裡呢？也是在戀語市嗎？」\n",
        "我：「沒錯，我住在＂＂」\n",
        "許墨：「那我送妳回去好了，路上再說說你想知道的事吧」\n",
        "/\n",
        "許墨：「請問你爸爸的名字是？」\n",
        "我：「＂＂」\n",
        "許墨：「啊，原來是那位前輩阿，我前幾年參加節目時有看過呢」\n",
        "許墨：「對了，我家也剛好住在你家附近，因為想要好好的討論關於你爸的事，你介意來我家裡嗎？但那裡有我一個朋友，不知道你會不會覺得尷尬」\n",
        "我：「＂好啊＂」\n",
        "許墨：「那我們走吧」\n",
        "/\n",
        "回家了~\n",
        "一開門，一個黃色頭髮的可愛生物就撲到許墨教授的身上\n",
        "周棋洛：「墨~~~好想你哦！」\n",
        "許墨：「不好意思，湘君，我另一個朋友不請自來了，你不會介意吧」\n",
        "我：「＂有點介意＂」我沒說的是，其實，我有恐男症\n",
        "許墨：「沒關係，我馬上就把他趕出去」\n",
        "白起：「天啊，湘君，好久不見！」\n",
        "許墨：「你們認識嗎？」\n",
        "白起：「他是我高中學妹」\n",
        "許墨：「湘君是什麼高中的呢？」\n",
        "我：「＂戀語高中＂」\n",
        "許墨：「我也是那個高中的呢，那你要叫我什麼呢？」\n",
        "我：「＂學長好＂」\n",
        "許墨：「乖，好了，我要來辦正事了」\n",
        "周棋洛一臉小狗可憐樣的看著許墨。\n",
        "周棋洛：「墨~不要這樣對偶QQ湘君小姐，我記得我有在便利商店看過你耶，你是不是在那裡買了薯片呀？」\n",
        "我：「＂對＂你怎麼知道？」\n",
        "周棋洛：「因為你搶了我的薯片！薯片小姐！你這樣還想要讓墨趕我走嗎！」\n",
        "我：「...＂對不起＂」\n",
        "周棋洛：「沒關係，那之後我想吃薯片的話，你可以跟我一起去吃嗎？」\n",
        "我：「＂好＂」"
      ]
    }
  ]
}