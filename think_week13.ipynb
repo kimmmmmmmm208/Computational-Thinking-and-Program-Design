{
  "nbformat": 4,
  "nbformat_minor": 0,
  "metadata": {
    "colab": {
      "name": "think_week13",
      "provenance": [],
      "authorship_tag": "ABX9TyOoMIpE4Qt7CTikZCddx0V/",
      "include_colab_link": true
    },
    "kernelspec": {
      "name": "python3",
      "display_name": "Python 3"
    }
  },
  "cells": [
    {
      "cell_type": "markdown",
      "metadata": {
        "id": "view-in-github",
        "colab_type": "text"
      },
      "source": [
        "<a href=\"https://colab.research.google.com/github/kimmmmmmmm208/Computational-Thinking-and-Program-Design/blob/master/think_week13.ipynb\" target=\"_parent\"><img src=\"https://colab.research.google.com/assets/colab-badge.svg\" alt=\"Open In Colab\"/></a>"
      ]
    },
    {
      "cell_type": "code",
      "metadata": {
        "id": "00ksuuS8wQwa",
        "colab_type": "code",
        "colab": {
          "base_uri": "https://localhost:8080/",
          "height": 54
        },
        "outputId": "8613576f-7e52-4a41-aa3e-184ca299d907"
      },
      "source": [
        "score = int(input(\"你考幾分?\"))\n",
        "if(score >= 60):\n",
        "  alarm = \"OFF\"\n",
        "  print(\"有及格\")\n",
        "else:\n",
        "  alarm = \"ON\"\n",
        "  print(\"沒有及格\")"
      ],
      "execution_count": 3,
      "outputs": [
        {
          "output_type": "stream",
          "text": [
            "你考幾分?80\n",
            "有及格\n"
          ],
          "name": "stdout"
        }
      ]
    },
    {
      "cell_type": "code",
      "metadata": {
        "id": "pLZlTZIc2t4B",
        "colab_type": "code",
        "colab": {
          "base_uri": "https://localhost:8080/",
          "height": 54
        },
        "outputId": "c97ec067-df8b-4bfc-dae6-a77ff44c26bb"
      },
      "source": [
        "year = int(input(\"請輸入年份?\"))\n",
        "if((year % 400) == 0):\n",
        "  print(year, \"是閏年\")\n",
        "elif((year % 100) == 0):\n",
        "  print(year, \"不是閏年\")\n",
        "elif((year % 4) == 0):\n",
        "  print(year, \"是閏年\")\n",
        "else:\n",
        "  print(year, \"不是閏年\")"
      ],
      "execution_count": 7,
      "outputs": [
        {
          "output_type": "stream",
          "text": [
            "請輸入年份?40000\n",
            "40000 是閏年\n"
          ],
          "name": "stdout"
        }
      ]
    },
    {
      "cell_type": "code",
      "metadata": {
        "id": "MiVesbz24e_Y",
        "colab_type": "code",
        "colab": {
          "base_uri": "https://localhost:8080/",
          "height": 90
        },
        "outputId": "960912ba-967d-4128-d9cc-ef6de812631a"
      },
      "source": [
        "#成績判斷\n",
        "##單向選擇\n",
        "score = int(input(\"你考幾分?\")) # 文字轉數字\n",
        "if(score >= 80):\n",
        "  print(\"Well down\")\n",
        "if(80 > score >= 60):\n",
        "  print(\"Good, pass\")\n",
        "if(score < 60):\n",
        "  print(\"Work harder\")\n",
        "\n",
        "##多向選擇\n",
        "if score >= 20:\n",
        "  print(\"Well down\")\n",
        "elif score >= 60:\n",
        "  print(\"Good, pass\")\n",
        "else:\n",
        "  print(\"Worl harder\")"
      ],
      "execution_count": 11,
      "outputs": [
        {
          "output_type": "stream",
          "text": [
            "你考幾分?80\n",
            "Well down\n",
            "非常好\n",
            "Well down\n"
          ],
          "name": "stdout"
        }
      ]
    },
    {
      "cell_type": "code",
      "metadata": {
        "id": "0vx9AxYp797o",
        "colab_type": "code",
        "colab": {
          "base_uri": "https://localhost:8080/",
          "height": 54
        },
        "outputId": "75e96668-e1f1-4b43-d9ae-84469ae471ed"
      },
      "source": [
        "##雙向選擇\n",
        "score = int(input(\"你考幾分?\")) # 文字轉數字\n",
        "if score >= 80:\n",
        "  print(\"Well down\")\n",
        "else:\n",
        "  print(\"Oiling\")\n",
        "  if score >= 60:\n",
        "    print(\"Good, pass\")\n",
        "  else:\n",
        "    print(\"Work harder\")"
      ],
      "execution_count": 14,
      "outputs": [
        {
          "output_type": "stream",
          "text": [
            "你考幾分?80\n",
            "非常好\n"
          ],
          "name": "stdout"
        }
      ]
    },
    {
      "cell_type": "code",
      "metadata": {
        "id": "YEWUDoqJ-nav",
        "colab_type": "code",
        "colab": {
          "base_uri": "https://localhost:8080/",
          "height": 54
        },
        "outputId": "e956fd90-dd44-409f-ed2d-d0f1ac6a99b8"
      },
      "source": [
        "##多向選擇\n",
        "score = int(input(\"你考幾分?\")) # 文字轉數字\n",
        "if score >= 80:\n",
        "  print(\"Well down\")\n",
        "elif score >= 60:\n",
        "  print(\"Good, pass\")\n",
        "else:\n",
        "  print(\"Worl harder\")"
      ],
      "execution_count": 17,
      "outputs": [
        {
          "output_type": "stream",
          "text": [
            "你考幾分?50\n",
            "Worl harder\n"
          ],
          "name": "stdout"
        }
      ]
    }
  ]
}