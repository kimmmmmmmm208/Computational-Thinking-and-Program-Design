{
  "nbformat": 4,
  "nbformat_minor": 0,
  "metadata": {
    "colab": {
      "name": "think_week14",
      "provenance": [],
      "authorship_tag": "ABX9TyM+p+opcnolj2n83ilddFHa",
      "include_colab_link": true
    },
    "kernelspec": {
      "name": "python3",
      "display_name": "Python 3"
    }
  },
  "cells": [
    {
      "cell_type": "markdown",
      "metadata": {
        "id": "view-in-github",
        "colab_type": "text"
      },
      "source": [
        "<a href=\"https://colab.research.google.com/github/kimmmmmmmm208/Computational-Thinking-and-Program-Design/blob/master/think_week14.ipynb\" target=\"_parent\"><img src=\"https://colab.research.google.com/assets/colab-badge.svg\" alt=\"Open In Colab\"/></a>"
      ]
    },
    {
      "cell_type": "code",
      "metadata": {
        "id": "4qsfhTrVqLyn",
        "colab_type": "code",
        "colab": {
          "base_uri": "https://localhost:8080/",
          "height": 90
        },
        "outputId": "33b37c60-c049-4e9c-e9a9-70dabd9c6ee7"
      },
      "source": [
        "# BMI計算\n",
        "## 輸入體重和身高資訊 input\n",
        "weight = float(input(\"Enter your weight(KG)\")) # 轉數字\n",
        "height = float(input(\"Enter your height(M)\"))\n",
        "\n",
        "## 計算BMI指數 process\n",
        "bmi = weight / (height * height)\n",
        "\n",
        "## 印出BMI output\n",
        "print(\"BMI指數為\", bmi)\n",
        "\n",
        "## 根BMI指數 印出肥胖指數程度分類 process = output = if else else\n",
        "if bmi < 18:\n",
        "  print(\"Underweight\")\n",
        "elif bmi < 24:\n",
        "  print(\"Normal\")\n",
        "elif bmi < 27:\n",
        "  print(\"Overweight\")\n",
        "else:\n",
        "  print(\"Obesity\")"
      ],
      "execution_count": 3,
      "outputs": [
        {
          "output_type": "stream",
          "text": [
            "Enter your weight(KG)50\n",
            "Enter your height(M)1.6\n",
            "BMI指數為 19.531249999999996\n",
            "Normal\n"
          ],
          "name": "stdout"
        }
      ]
    },
    {
      "cell_type": "code",
      "metadata": {
        "id": "lth_IsVUykBM",
        "colab_type": "code",
        "colab": {}
      },
      "source": [
        "# 猜數字遊戲\n",
        "\n",
        "# input\n",
        "# 我心中有一數\n",
        "# 對方猜一個數\n",
        "\n",
        "secret_number = 83\n",
        "guess_number = int(input(\"Guess between 1 to 100:\"))\n",
        "\n",
        "# Process + Output\n",
        "# 和我心中的數一不一樣 \n",
        "# 不一樣時 告訴對方猜太高或猜太低\n",
        "\n",
        "while(guess_number != secret_number):\n",
        "  print(\"Your guess is wrong\")\n",
        "  if guess_number < secret_number:\n",
        "    print(\"再高一點\")\n",
        "  else:\n",
        "    print(\"再低一點\")\n",
        "  guess_number = int(input(\"Guess between 1 to 100:\")) # Step 更新值\n",
        "print(\"恭喜\")"
      ],
      "execution_count": 0,
      "outputs": []
    },
    {
      "cell_type": "code",
      "metadata": {
        "id": "BFKTIjWDAb6X",
        "colab_type": "code",
        "colab": {
          "base_uri": "https://localhost:8080/",
          "height": 199
        },
        "outputId": "c1708eee-8f4d-4216-a456-f202ccda95b8"
      },
      "source": [
        "# 一般型迴圈\n",
        "n = 0 # 初始條件\n",
        "while n < 10: # 判斷條件\n",
        "  n = n + 1 # 更新條件\n",
        "  print(\"這是第\", n,\"次的hello\")"
      ],
      "execution_count": 12,
      "outputs": [
        {
          "output_type": "stream",
          "text": [
            "這是第 1 次的hello\n",
            "這是第 2 次的hello\n",
            "這是第 3 次的hello\n",
            "這是第 4 次的hello\n",
            "這是第 5 次的hello\n",
            "這是第 6 次的hello\n",
            "這是第 7 次的hello\n",
            "這是第 8 次的hello\n",
            "這是第 9 次的hello\n",
            "這是第 10 次的hello\n"
          ],
          "name": "stdout"
        }
      ]
    }
  ]
}