{
  "nbformat": 4,
  "nbformat_minor": 0,
  "metadata": {
    "colab": {
      "name": "think_week8.ipynb",
      "provenance": [],
      "authorship_tag": "ABX9TyPKFiGL6tMXirs3mehMlwO5",
      "include_colab_link": true
    },
    "kernelspec": {
      "name": "python3",
      "display_name": "Python 3"
    }
  },
  "cells": [
    {
      "cell_type": "markdown",
      "metadata": {
        "id": "view-in-github",
        "colab_type": "text"
      },
      "source": [
        "<a href=\"https://colab.research.google.com/github/kimmmmmmmm208/Computational-Thinking-and-Program-Design/blob/master/think_week8.ipynb\" target=\"_parent\"><img src=\"https://colab.research.google.com/assets/colab-badge.svg\" alt=\"Open In Colab\"/></a>"
      ]
    },
    {
      "cell_type": "code",
      "metadata": {
        "id": "-QxJ-4uesGMN",
        "colab_type": "code",
        "colab": {
          "base_uri": "https://localhost:8080/",
          "height": 145
        },
        "outputId": "9b2d9de8-e2e0-4e40-de84-b3f150c8eda9"
      },
      "source": [
        "hours = input(\"Enter movie time hours:\")\n",
        "minutes = input(\"Enter movie time minutes:\")\n",
        "\n",
        "hours = int(hours)\n",
        "minutes = int(minutes)\n",
        "\n",
        "length = hours * 60 + minutes # 數學運算\n",
        "print(hours, \"Hours\", minutes, \"Minutes\", \"Movie length is\", length)\n",
        "\n",
        "# 123分鐘轉成2小時3分鐘\n",
        "\n",
        "hours1 = length / 60 # hours\n",
        "print(hours1)\n",
        "hours2 = int(hours1)\n",
        "print(hours2)\n",
        "\n",
        "# 123分鐘 3分鐘\n",
        "minutes1 = (hours1 - hours2)* 60\n",
        "minutes2 = round(minutes1) # 四捨五入\n",
        "\n",
        "print(minutes2)\n",
        "print(length, \"Minutes equals\", hours2, \"Hours\", minutes2, \"Minutes\")"
      ],
      "execution_count": 17,
      "outputs": [
        {
          "output_type": "stream",
          "text": [
            "Enter movie time hours:2\n",
            "Enter movie time minutes:3\n",
            "2 Hours 3 Minutes Movie length is 123\n",
            "2.05\n",
            "2\n",
            "3\n",
            "123 Minutes equals 2 Hours 3 Minutes\n"
          ],
          "name": "stdout"
        }
      ]
    },
    {
      "cell_type": "code",
      "metadata": {
        "id": "tb6I1xNFs36S",
        "colab_type": "code",
        "colab": {
          "base_uri": "https://localhost:8080/",
          "height": 126
        },
        "outputId": "d625b2c7-9917-4188-b4ae-df809c6a789e"
      },
      "source": [
        "hours = input(\"Enter movie time hours:\")\n",
        "minutes = input(\"Enter movie time minutes:\")\n",
        "\n",
        "hours = int(hours)\n",
        "minutes = int(minutes)\n",
        "\n",
        "length = hours * 60 + minutes # 數學運算\n",
        "print(hours, \"Hours\", minutes, \"Minutes\", \"Movie length is\", length)\n",
        "\n",
        "# 123分鐘轉成2小時3分鐘\n",
        "# 133\n",
        "hours1 = length / 60 # hours\n",
        "print(hours1)\n",
        "\n",
        "\n",
        "# 123分鐘 3分鐘\n",
        "minutes1 = length % 60\n",
        "print(minutes1)\n",
        "\n",
        "print(length, \"Minutes equals\", hours2, \"Hours\", minutes2, \"Minutes\")"
      ],
      "execution_count": 18,
      "outputs": [
        {
          "output_type": "stream",
          "text": [
            "Enter movie time hours:2\n",
            "Enter movie time minutes:3\n",
            "2 Hours 3 Minutes Movie length is 123\n",
            "2.05\n",
            "3\n",
            "123 Minutes equals 2 Hours 3 Minutes\n"
          ],
          "name": "stdout"
        }
      ]
    },
    {
      "cell_type": "code",
      "metadata": {
        "id": "mvI4cOmGx-_E",
        "colab_type": "code",
        "colab": {}
      },
      "source": [
        ""
      ],
      "execution_count": 0,
      "outputs": []
    }
  ]
}